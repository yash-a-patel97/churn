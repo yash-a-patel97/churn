{
 "cells": [
  {
   "cell_type": "code",
   "execution_count": 13,
   "id": "6d16cce7-c844-443e-970b-a711dfb8bdc5",
   "metadata": {},
   "outputs": [],
   "source": [
    "import numpy as np\n",
    "import pandas as pd\n",
    "import seaborn as sns\n",
    "import matplotlib.pyplot as plt\n",
    "from sklearn.model_selection import train_test_split\n",
    "from sklearn.model_selection import train_test_split\n",
    "from sklearn.preprocessing import StandardScaler\n",
    "from sklearn.svm import SVC\n",
    "from sklearn.metrics import classification_report, confusion_matrix\n",
    "\n",
    "df = pd.read_csv(\"wine_fraud.csv\")"
   ]
  },
  {
   "cell_type": "code",
   "execution_count": 14,
   "id": "731ce4c1-c02f-48a1-b6d4-3a4273ebd803",
   "metadata": {},
   "outputs": [
    {
     "name": "stderr",
     "output_type": "stream",
     "text": [
      "C:\\Users\\ashga\\AppData\\Local\\Temp\\ipykernel_3588\\2408440529.py:5: FutureWarning: The default value of numeric_only in DataFrame.corr is deprecated. In a future version, it will default to False. Select only valid columns or specify the value of numeric_only to silence this warning.\n",
      "  correlation_matrix = df.corr()\n"
     ]
    },
    {
     "data": {
      "text/plain": [
       "quality_mapped          1.000000\n",
       "volatile acidity        0.151228\n",
       "chlorides               0.034499\n",
       "fixed acidity           0.021794\n",
       "pH                      0.020107\n",
       "density                 0.016351\n",
       "sulphates              -0.034046\n",
       "total sulfur dioxide   -0.035252\n",
       "residual sugar         -0.048756\n",
       "alcohol                -0.051141\n",
       "citric acid            -0.061789\n",
       "free sulfur dioxide    -0.085204\n",
       "Name: quality_mapped, dtype: float64"
      ]
     },
     "execution_count": 14,
     "metadata": {},
     "output_type": "execute_result"
    }
   ],
   "source": [
    "# Map the 'quality' column to 0 and 1. Assuming 'Legit' is 0 and 'Fraud' is 1.\n",
    "df['quality_mapped'] = df['quality'].map({'Legit': 0, 'Fraud': 1})\n",
    "\n",
    "# Calculate the correlation matrix\n",
    "correlation_matrix = df.corr()\n",
    "\n",
    "# Extract the correlation of the features with the 'quality_mapped' column\n",
    "quality_correlation = correlation_matrix['quality_mapped'].sort_values(ascending=False)\n",
    "\n",
    "quality_correlation\n"
   ]
  },
  {
   "cell_type": "code",
   "execution_count": 19,
   "id": "fdab7d27-1248-41eb-9243-de2d01023cbb",
   "metadata": {},
   "outputs": [
    {
     "name": "stdout",
     "output_type": "stream",
     "text": [
      "Confusion Matrix:\n",
      "[[531  92]\n",
      " [ 10  17]]\n",
      "\n",
      "Classification Report:\n",
      "              precision    recall  f1-score   support\n",
      "\n",
      "       Fraud       0.98      0.85      0.91       623\n",
      "       Legit       0.16      0.63      0.25        27\n",
      "\n",
      "    accuracy                           0.84       650\n",
      "   macro avg       0.57      0.74      0.58       650\n",
      "weighted avg       0.95      0.84      0.88       650\n",
      "\n"
     ]
    }
   ],
   "source": [
    "from sklearn.metrics import classification_report, confusion_matrix\n",
    "from sklearn.svm import SVC\n",
    "from sklearn.model_selection import train_test_split\n",
    "from sklearn.preprocessing import StandardScaler\n",
    "import pandas as pd\n",
    "\n",
    "# Load the dataset\n",
    "df = pd.read_csv('wine_fraud.csv')\n",
    "\n",
    "# Convert 'type' column to dummy variables\n",
    "df = pd.get_dummies(df, columns=['type'], drop_first=True)\n",
    "\n",
    "# Map the 'quality' column to 0 for 'Legit' and 1 for 'Fraud'\n",
    "df['quality_mapped'] = df['quality'].map({'Legit': 0, 'Fraud': 1})\n",
    "\n",
    "# Drop the original 'quality' column\n",
    "df.drop('quality', axis=1, inplace=True)\n",
    "\n",
    "# Separate the data into features (X) and target label (y)\n",
    "X = df.drop('quality_mapped', axis=1)\n",
    "y = df['quality_mapped']\n",
    "\n",
    "# Perform a train/test split with a 10% test size and random state of 101\n",
    "X_train, X_test, y_train, y_test = train_test_split(X, y, test_size=0.10, random_state=101)\n",
    "\n",
    "# Scale the data\n",
    "scaler = StandardScaler()\n",
    "X_train_scaled = scaler.fit_transform(X_train)\n",
    "X_test_scaled = scaler.transform(X_test)\n",
    "\n",
    "# Create and fit the SVM model with class weights adjusted\n",
    "svm_model = SVC(class_weight='balanced')\n",
    "svm_model.fit(X_train_scaled, y_train)\n",
    "\n",
    "# Make predictions on the test data\n",
    "y_pred = svm_model.predict(X_test_scaled)\n",
    "\n",
    "# Generate the confusion matrix and classification report\n",
    "conf_matrix = confusion_matrix(y_test, y_pred)\n",
    "class_report = classification_report(y_test, y_pred, target_names=['Fraud', 'Legit'])\n",
    "\n",
    "# Print the formatted confusion matrix and classification report\n",
    "print(\"Confusion Matrix:\")\n",
    "print(conf_matrix)\n",
    "print(\"\\nClassification Report:\")\n",
    "print(class_report)\n"
   ]
  },
  {
   "cell_type": "code",
   "execution_count": 20,
   "id": "29b69a6d-a110-49a2-9969-1a98fb1c5366",
   "metadata": {},
   "outputs": [],
   "source": [
    "import pickle\n",
    "\n",
    "# Your trained machine learning model\n",
    "model = svm_model\n",
    "\n",
    "# Specify the file path to save the model\n",
    "model_file_path = 'wine_fraud.pkl'\n",
    "\n",
    "# Open the file in binary write mode\n",
    "with open(model_file_path, 'wb') as model_file:\n",
    "    pickle.dump(model, model_file)"
   ]
  },
  {
   "cell_type": "code",
   "execution_count": 21,
   "id": "dec1b8b4-7f41-4ed4-92af-5b703169f1bf",
   "metadata": {},
   "outputs": [],
   "source": [
    "import pickle\n",
    "from sklearn.preprocessing import StandardScaler\n",
    "scaler_file_path = 'Scaler_Wine.pkl'\n",
    "with open(scaler_file_path, 'wb') as scaler_file:\n",
    "    pickle.dump(scaler, scaler_file)"
   ]
  },
  {
   "cell_type": "code",
   "execution_count": null,
   "id": "7fcd0372-7002-4fda-accf-d315a8ac98dd",
   "metadata": {},
   "outputs": [],
   "source": []
  }
 ],
 "metadata": {
  "kernelspec": {
   "display_name": "Python 3 (ipykernel)",
   "language": "python",
   "name": "python3"
  },
  "language_info": {
   "codemirror_mode": {
    "name": "ipython",
    "version": 3
   },
   "file_extension": ".py",
   "mimetype": "text/x-python",
   "name": "python",
   "nbconvert_exporter": "python",
   "pygments_lexer": "ipython3",
   "version": "3.10.11"
  }
 },
 "nbformat": 4,
 "nbformat_minor": 5
}
