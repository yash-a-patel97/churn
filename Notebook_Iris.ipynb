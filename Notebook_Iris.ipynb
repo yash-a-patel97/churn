{
 "cells": [
  {
   "cell_type": "code",
   "execution_count": 9,
   "id": "3d44b871-5189-4830-b469-128c88e8be53",
   "metadata": {},
   "outputs": [],
   "source": [
    "import pandas as pd\n",
    "import pickle\n",
    "from sklearn.model_selection import train_test_split\n",
    "from sklearn.preprocessing import StandardScaler\n",
    "from sklearn.neighbors import KNeighborsClassifier\n",
    "\n",
    "# Load the Iris dataset\n",
    "iris_data = pd.read_csv('Iris.csv')\n",
    "\n",
    "# Encode the target variable (Species)\n",
    "species_encoding = {'Iris-setosa': 0, 'Iris-versicolor': 1, 'Iris-virginica': 2}\n",
    "iris_data['Species'] = iris_data['Species'].map(species_encoding)\n",
    "\n",
    "# Define features (X) and target (y)\n",
    "X = iris_data.drop('Species', axis=1)  # Only drop the 'Species' column\n",
    "y = iris_data['Species']\n",
    "\n",
    "# Split the data into training and testing sets\n",
    "X_train, X_test, y_train, y_test = train_test_split(X, y, test_size=0.3, random_state=42)\n",
    "\n",
    "# Initialize the StandardScaler\n",
    "scaler = StandardScaler()\n",
    "\n",
    "# Fit the scaler with the training data\n",
    "scaler.fit(X_train)\n",
    "\n",
    "# Scale the training data\n",
    "X_train_scaled = scaler.transform(X_train)\n",
    "\n",
    "# Initialize the KNeighborsClassifier\n",
    "knn = KNeighborsClassifier(\n",
    "    n_neighbors=5,\n",
    "    weights='uniform',\n",
    "    algorithm='auto',\n",
    "    leaf_size=30,\n",
    "    p=2,\n",
    "    metric='minkowski',\n",
    "    n_jobs=None\n",
    ")\n",
    "\n",
    "# Fit the KNN model to the scaled training data\n",
    "knn.fit(X_train_scaled, y_train)\n",
    "\n",
    "# Save the trained scaler to a file\n",
    "scaler_file_path = 'Scaler_Iris.pkl'\n",
    "with open(scaler_file_path, 'wb') as scaler_file:\n",
    "    pickle.dump(scaler, scaler_file)\n",
    "\n",
    "# Save the trained model to a file\n",
    "model_file_path = 'KNN_Iris.pkl'\n",
    "with open(model_file_path, 'wb') as model_file:\n",
    "    pickle.dump(knn, model_file)\n"
   ]
  },
  {
   "cell_type": "code",
   "execution_count": 7,
   "id": "bab0a125-3853-420c-98a8-b17e2dee1494",
   "metadata": {},
   "outputs": [
    {
     "data": {
      "text/plain": [
       "'1.2.2'"
      ]
     },
     "execution_count": 7,
     "metadata": {},
     "output_type": "execute_result"
    }
   ],
   "source": [
    "# To check the version of scikit-learn installed in the environment\n",
    "# we can use the following code.\n",
    "\n",
    "import sklearn\n",
    "\n",
    "# Get the version of scikit-learn\n",
    "sklearn_version = sklearn.__version__\n",
    "\n",
    "sklearn_version\n"
   ]
  },
  {
   "cell_type": "code",
   "execution_count": null,
   "id": "c7d73b7f-60b9-4aa0-8066-aa7b87bb6a9c",
   "metadata": {},
   "outputs": [],
   "source": []
  }
 ],
 "metadata": {
  "kernelspec": {
   "display_name": "Python 3 (ipykernel)",
   "language": "python",
   "name": "python3"
  },
  "language_info": {
   "codemirror_mode": {
    "name": "ipython",
    "version": 3
   },
   "file_extension": ".py",
   "mimetype": "text/x-python",
   "name": "python",
   "nbconvert_exporter": "python",
   "pygments_lexer": "ipython3",
   "version": "3.10.11"
  }
 },
 "nbformat": 4,
 "nbformat_minor": 5
}
